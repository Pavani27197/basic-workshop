{
 "cells": [
  {
   "cell_type": "markdown",
   "metadata": {},
   "source": [
    "# PYTHON\n"
   ]
  },
  {
   "cell_type": "markdown",
   "metadata": {},
   "source": [
    "- Python is a simple, general purpose, high level, and object-oriented programming language.\n",
    "\n",
    "- Python is an interpreted scripting language also. Guido Van Rossum is known as the founder of Python programming."
   ]
  },
  {
   "cell_type": "markdown",
   "metadata": {},
   "source": [
    "## Python Features\n",
    "\n",
    "\n",
    "#### 1) Easy to Learn and Use\n",
    " * Python is easy to learn and use. It is developer-friendly and high level programming language.\n",
    "\n",
    "#### 2) Expressive Language\n",
    " * Python language is more expressive means that it is more understandable and reada\n",
    "#### 3) Interpreted Language\n",
    " * Python is an interpreted language i.e. interpreter executes the code line by line at a time. This makes debugging easy and thus suitable for beginners.\n",
    "\n",
    "#### 4) Cross-platform Language\n",
    " * Python can run equally on different platforms such as Windows, Linux, Unix and Macintosh etc. So, we can say that Python is a portable language.\n",
    "\n",
    "#### 5) Free and Open Source\n",
    " * Python supports object oriented language and concepts of classes and objects come into existence.\n",
    "\n",
    "#### 7) Extensible\n",
    " * It implies that other languages such as C/C++ can be used to compile the code and thus it can be used further in our python code.\n",
    "\n",
    "#### 8) Large Standard Library\n",
    " * Python has a large and broad library and prvides rich set of module and functions for rapid application development.\n",
    "\n",
    "#### 9) GUI Programming Support\n",
    " * Graphical user interfaces can be developed using Python.\n",
    "\n",
    "#### 10) Integrated\n",
    " * It can be easily integrated with languages like C, C++, JAVA etc."
   ]
  },
  {
   "cell_type": "markdown",
   "metadata": {},
   "source": [
    "### Python History and Versions\n",
    "- Python laid its foundation in the late 1980s.\n",
    "- The implementation of Python was started in the December 1989 by Guido Van Rossum"
   ]
  },
  {
   "cell_type": "markdown",
   "metadata": {},
   "source": [
    "### Python Version List\n",
    "#### Python Version\tReleased Date\n",
    "- Python 1.0\tJanuary 1994\n",
    "- Python 1.5\tDecember 31, 1997\n",
    "- Python 1.6\tSeptember 5, 2000\n",
    "- Python 2.0\tOctober 16, 2000\n",
    "- Python 2.1\tApril 17, 2001\n",
    "- Python 2.2\tDecember 21, 2001\n",
    "- Python 2.3\tJuly 29, 2003\n",
    "- Python 2.4\tNovember 30, 2004\n",
    "- Python 2.5\tSeptember 19, 2006\n",
    "- Python 2.6\tOctober 1, 2008\n",
    "- Python 2.7\tJuly 3, 2010\n",
    "- Python 3.0\tDecember 3, 2008\n",
    "- Python 3.1\tJune 27, 2009\n",
    "- Python 3.2\tFebruary 20, 2011\n",
    "- Python 3.3\tSeptember 29, 2012\n",
    "- Python 3.4\tMarch 16, 2014\n",
    "- Python 3.5\tSeptember 13, 2015\n",
    "- Python 3.6\tDecember 23, 2016\n",
    "- Python 3.7\tJune 27, 2018"
   ]
  },
  {
   "cell_type": "markdown",
   "metadata": {},
   "source": [
    "### Python Applications\n",
    "#### Python is known for its general purpose.it applicable in almost each domain of software development.\n",
    "##### 1) Web Applications\n",
    "- We can use Python to develop web applications.\n",
    "- It provides libraries to handle internet protocols such as HTML and XML, JSON, Email processing, reques etc.\n",
    "##### 2) Desktop GUI Applications\n",
    "- Python provides Tk GUI library to develop user interface in python based application. Some other useful toolkits wxWidgets, Kivy, pyqt that are useable on several platforms. The Kivy is popular for writing multitouch applications.\n",
    "\n",
    "##### 3) Software Development\n",
    "- Python is helpful for software development process. It works as a support language and can be used for build control and management, testing etc.\n",
    "\n",
    "##### 4) Scientific and Numeric\n",
    "- Python is popular and widely used in scientific and numeric computing. Some useful library and package are SciPy, Pandas, IPython etc. SciPy is group of packages of engineering, science and mathematics.\n",
    "\n",
    "##### 5) Business Applications\n",
    "- Python is used to build Bussiness applications like ERP and e-commerce systems. Tryton is a high level application platform.\n",
    "\n",
    "##### 6) Console Based Application\n",
    "- We can use Python to develop console based applications. For example: IPython.\n",
    "\n",
    "##### 7) Audio or Video based Applications\n",
    "- Python is awesome to perform multiple tasks and can be used to develop multimedia applications. Some of real applications are: TimPlayer, cplay etc.\n",
    "\n",
    "##### 8) 3D CAD Applications\n",
    "- To create CAD application Fandango is a real application which provides full features of CAD.\n",
    "\n",
    "##### 9) Enterprise Applications\n",
    "- Python can be used to create applications which can be used within an Enterprise or an Organization. Some real time applications are: OpenErp, Tryton, Picalo etc.\n",
    "\n",
    "##### 10) Applications for Images\n",
    "- Using Python several application can be developed for image. Applications developed are: VPython, Gogh, imgSeek etc.\n",
    "\n"
   ]
  },
  {
   "cell_type": "markdown",
   "metadata": {},
   "source": [
    "### install python:\n",
    "#### - python 3.7.4(windows 10)\n",
    "#### - python 3.4.3(windows 7)"
   ]
  },
  {
   "cell_type": "markdown",
   "metadata": {},
   "source": [
    "### python provides us the two ways to run a program:\n",
    "\n",
    "##### - Using Interactive interpreter prompt(shell)\n",
    "##### - Using a script file"
   ]
  },
  {
   "cell_type": "markdown",
   "metadata": {},
   "source": [
    "### Python Variables\n",
    "- Variable is a name which is used to refer memory location. Variable also known as identifier and used to hold value.\n",
    "\n",
    "- In Python, we don't need to specify the type of variable because Python is a type infer language and smart enough to get variable type.\n",
    "\n",
    "- Variable names can be a group of both letters and digits, but they have to begin with a letter or an underscore.\n",
    "\n",
    "- It is recomended to use lowercase letters for variable name. Rahul and rahul both are two different variables.\n",
    "- The equal (=) operator is used to assign value to a variable.\n"
   ]
  },
  {
   "cell_type": "code",
   "execution_count": 6,
   "metadata": {},
   "outputs": [
    {
     "name": "stdout",
     "output_type": "stream",
     "text": [
      "hello!python workshop\n"
     ]
    }
   ],
   "source": [
    "print(\"hello!python workshop\")"
   ]
  },
  {
   "cell_type": "code",
   "execution_count": 2,
   "metadata": {},
   "outputs": [
    {
     "name": "stdout",
     "output_type": "stream",
     "text": [
      "10 20000.89 python\n"
     ]
    }
   ],
   "source": [
    "# Declaring Variable and Assigning Values:\n",
    "\n",
    "a=10\n",
    "sal=20000.89\n",
    "name=\"python\"\n",
    "print(a,sal,name)"
   ]
  },
  {
   "cell_type": "code",
   "execution_count": 5,
   "metadata": {},
   "outputs": [
    {
     "name": "stdout",
     "output_type": "stream",
     "text": [
      "50\n",
      "50\n",
      "50\n"
     ]
    }
   ],
   "source": [
    "# Assigning single value to multiple variable\n",
    "\n",
    "x=y=z=50  \n",
    "print(x)  \n",
    "print(y) \n",
    "print(z)  "
   ]
  },
  {
   "cell_type": "code",
   "execution_count": 8,
   "metadata": {},
   "outputs": [
    {
     "name": "stdout",
     "output_type": "stream",
     "text": [
      "5\n",
      "10\n",
      "15\n"
     ]
    }
   ],
   "source": [
    "# Assigning multiple values to multiple variables:\n",
    "\n",
    "a,b,c=5,10,15  \n",
    "print(a)  \n",
    "print(b)  \n",
    "print(c)  "
   ]
  },
  {
   "cell_type": "markdown",
   "metadata": {},
   "source": [
    "### Python Data Types\n",
    "- Variables can hold values of different data types."
   ]
  },
  {
   "cell_type": "code",
   "execution_count": null,
   "metadata": {},
   "outputs": [],
   "source": []
  }
 ],
 "metadata": {
  "kernelspec": {
   "display_name": "Python 3",
   "language": "python",
   "name": "python3"
  },
  "language_info": {
   "codemirror_mode": {
    "name": "ipython",
    "version": 3
   },
   "file_extension": ".py",
   "mimetype": "text/x-python",
   "name": "python",
   "nbconvert_exporter": "python",
   "pygments_lexer": "ipython3",
   "version": "3.7.3"
  }
 },
 "nbformat": 4,
 "nbformat_minor": 2
}
