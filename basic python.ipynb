{
 "cells": [
  {
   "cell_type": "markdown",
   "metadata": {},
   "source": [
    "# PYTHON\n"
   ]
  },
  {
   "cell_type": "markdown",
   "metadata": {},
   "source": [
    "- Python is a simple, general purpose, high level, and object-oriented programming language.\n",
    "\n",
    "- Python is an interpreted scripting language also. Guido Van Rossum is known as the founder of Python programming."
   ]
  },
  {
   "cell_type": "markdown",
   "metadata": {},
   "source": [
    "## Python Features\n",
    "\n",
    "\n",
    "#### 1) Easy to Learn and Use\n",
    " * Python is easy to learn and use. It is developer-friendly and high level programming language.\n",
    "\n",
    "#### 2) Expressive Language\n",
    " * Python language is more expressive means that it is more understandable and reada\n",
    "#### 3) Interpreted Language\n",
    " * Python is an interpreted language i.e. interpreter executes the code line by line at a time. This makes debugging easy and thus suitable for beginners.\n",
    "\n",
    "#### 4) Cross-platform Language\n",
    " * Python can run equally on different platforms such as Windows, Linux, Unix and Macintosh etc. So, we can say that Python is a portable language.\n",
    "\n",
    "#### 5) Free and Open Source\n",
    " * Python supports object oriented language and concepts of classes and objects come into existence.\n",
    "\n",
    "#### 7) Extensible\n",
    " * It implies that other languages such as C/C++ can be used to compile the code and thus it can be used further in our python code.\n",
    "\n",
    "#### 8) Large Standard Library\n",
    " * Python has a large and broad library and prvides rich set of module and functions for rapid application development.\n",
    "\n",
    "#### 9) GUI Programming Support\n",
    " * Graphical user interfaces can be developed using Python.\n",
    "\n",
    "#### 10) Integrated\n",
    " * It can be easily integrated with languages like C, C++, JAVA etc."
   ]
  },
  {
   "cell_type": "markdown",
   "metadata": {},
   "source": [
    "### Python History and Versions\n",
    "- Python laid its foundation in the late 1980s.\n",
    "- The implementation of Python was started in the December 1989 by Guido Van Rossum"
   ]
  },
  {
   "cell_type": "markdown",
   "metadata": {},
   "source": [
    "### Python Version List\n",
    "#### Python Version\tReleased Date\n",
    "- Python 1.0\tJanuary 1994\n",
    "- Python 1.5\tDecember 31, 1997\n",
    "- Python 1.6\tSeptember 5, 2000\n",
    "- Python 2.0\tOctober 16, 2000\n",
    "- Python 2.1\tApril 17, 2001\n",
    "- Python 2.2\tDecember 21, 2001\n",
    "- Python 2.3\tJuly 29, 2003\n",
    "- Python 2.4\tNovember 30, 2004\n",
    "- Python 2.5\tSeptember 19, 2006\n",
    "- Python 2.6\tOctober 1, 2008\n",
    "- Python 2.7\tJuly 3, 2010\n",
    "- Python 3.0\tDecember 3, 2008\n",
    "- Python 3.1\tJune 27, 2009\n",
    "- Python 3.2\tFebruary 20, 2011\n",
    "- Python 3.3\tSeptember 29, 2012\n",
    "- Python 3.4\tMarch 16, 2014\n",
    "- Python 3.5\tSeptember 13, 2015\n",
    "- Python 3.6\tDecember 23, 2016\n",
    "- Python 3.7\tJune 27, 2018"
   ]
  },
  {
   "cell_type": "markdown",
   "metadata": {},
   "source": [
    "### Python Applications\n",
    "#### Python is known for its general purpose.it applicable in almost each domain of software development.\n",
    "##### 1) Web Applications\n",
    "- We can use Python to develop web applications.\n",
    "- It provides libraries to handle internet protocols such as HTML and XML, JSON, Email processing, reques etc.\n",
    "##### 2) Desktop GUI Applications\n",
    "- Python provides Tk GUI library to develop user interface in python based application. Some other useful toolkits wxWidgets, Kivy, pyqt that are useable on several platforms. The Kivy is popular for writing multitouch applications.\n",
    "\n",
    "##### 3) Software Development\n",
    "- Python is helpful for software development process. It works as a support language and can be used for build control and management, testing etc.\n",
    "\n",
    "##### 4) Scientific and Numeric\n",
    "- Python is popular and widely used in scientific and numeric computing. Some useful library and package are SciPy, Pandas, IPython etc. SciPy is group of packages of engineering, science and mathematics.\n",
    "\n",
    "##### 5) Business Applications\n",
    "- Python is used to build Bussiness applications like ERP and e-commerce systems. Tryton is a high level application platform.\n",
    "\n",
    "##### 6) Console Based Application\n",
    "- We can use Python to develop console based applications. For example: IPython.\n",
    "\n",
    "##### 7) Audio or Video based Applications\n",
    "- Python is awesome to perform multiple tasks and can be used to develop multimedia applications. Some of real applications are: TimPlayer, cplay etc.\n",
    "\n",
    "##### 8) 3D CAD Applications\n",
    "- To create CAD application Fandango is a real application which provides full features of CAD.\n",
    "\n",
    "##### 9) Enterprise Applications\n",
    "- Python can be used to create applications which can be used within an Enterprise or an Organization. Some real time applications are: OpenErp, Tryton, Picalo etc.\n",
    "\n",
    "##### 10) Applications for Images\n",
    "- Using Python several application can be developed for image. Applications developed are: VPython, Gogh, imgSeek etc.\n",
    "\n"
   ]
  },
  {
   "cell_type": "markdown",
   "metadata": {},
   "source": [
    "### install python:\n",
    "#### - python 3.7.4(windows 10)\n",
    "#### - python 3.4.3(windows 7)"
   ]
  },
  {
   "cell_type": "markdown",
   "metadata": {},
   "source": [
    "### python provides us the two ways to run a program:\n",
    "\n",
    "##### - Using Interactive interpreter prompt(shell)\n",
    "##### - Using a script file"
   ]
  },
  {
   "cell_type": "markdown",
   "metadata": {},
   "source": [
    "### Python Variables\n",
    "- Variable is a name which is used to refer memory location. Variable also known as identifier and used to hold value.\n",
    "\n",
    "- In Python, we don't need to specify the type of variable because Python is a type infer language and smart enough to get variable type.\n",
    "\n",
    "- Variable names can be a group of both letters and digits, but they have to begin with a letter or an underscore.\n",
    "\n",
    "- The equal (=) operator is used to assign value to a variable.\n",
    "\n",
    "- Keywords cannot be used as variable names."
   ]
  },
  {
   "cell_type": "markdown",
   "metadata": {},
   "source": [
    "#### Python reserves 31 keywords for its use:\n",
    "    - False    class       Finally    Is          Return\n",
    "    - None     continue    For        Lambda      Try\n",
    "    - True     def         from       nonlocal    While\n",
    "    - And      Del         global     Not         With\n",
    "    - As       Elif        If         Or          Yield\n",
    "    - Assert   else        import     pass\n",
    "    - Break    Except      In         raise"
   ]
  },
  {
   "cell_type": "code",
   "execution_count": 6,
   "metadata": {},
   "outputs": [
    {
     "name": "stdout",
     "output_type": "stream",
     "text": [
      "hello!python workshop\n"
     ]
    }
   ],
   "source": [
    "print(\"hello!python workshop\")"
   ]
  },
  {
   "cell_type": "code",
   "execution_count": 2,
   "metadata": {},
   "outputs": [
    {
     "name": "stdout",
     "output_type": "stream",
     "text": [
      "10 20000.89 python\n"
     ]
    }
   ],
   "source": [
    "# Declaring Variable and Assigning Values:\n",
    "\n",
    "a=10\n",
    "sal=20000.89\n",
    "name=\"python\"\n",
    "print(a,sal,name)"
   ]
  },
  {
   "cell_type": "code",
   "execution_count": 5,
   "metadata": {},
   "outputs": [
    {
     "name": "stdout",
     "output_type": "stream",
     "text": [
      "50\n",
      "50\n",
      "50\n"
     ]
    }
   ],
   "source": [
    "# Assigning single value to multiple variable\n",
    "\n",
    "x=y=z=50  \n",
    "print(x)  \n",
    "print(y) \n",
    "print(z)  "
   ]
  },
  {
   "cell_type": "code",
   "execution_count": 8,
   "metadata": {},
   "outputs": [
    {
     "name": "stdout",
     "output_type": "stream",
     "text": [
      "5\n",
      "10\n",
      "15\n"
     ]
    }
   ],
   "source": [
    "# Assigning multiple values to multiple variables:\n",
    "\n",
    "a,b,c=5,10,15  \n",
    "print(a)  \n",
    "print(b)  \n",
    "print(c)  "
   ]
  },
  {
   "cell_type": "markdown",
   "metadata": {},
   "source": [
    "#### Statements:\n",
    "- A statement is a unit of code that the Python interpreter can execute.\n",
    "- We have seen two kinds of statements: print and assignment.\n",
    "- The assignment statement produces no output."
   ]
  },
  {
   "cell_type": "code",
   "execution_count": 2,
   "metadata": {},
   "outputs": [
    {
     "name": "stdout",
     "output_type": "stream",
     "text": [
      "2\n"
     ]
    }
   ],
   "source": [
    "x=2     #(assigment)\n",
    "print(x)     #(print)"
   ]
  },
  {
   "cell_type": "markdown",
   "metadata": {},
   "source": [
    "#### Operators and operands:\n",
    "- Operators are special symbols\n",
    "- The operators +, -, *, / and ** perform addition, subtraction, multiplication, division\n",
    "and exponentiation"
   ]
  },
  {
   "cell_type": "code",
   "execution_count": 3,
   "metadata": {},
   "outputs": [
    {
     "name": "stdout",
     "output_type": "stream",
     "text": [
      "52\n",
      "59\n",
      "3659\n",
      "0.9833333333333333\n",
      "25\n",
      "112\n"
     ]
    }
   ],
   "source": [
    "print(20+32)\n",
    "minute=59\n",
    "hour=60\n",
    "print(hour-1) \n",
    "print(hour*60+minute)\n",
    "print(minute/60)\n",
    "print(5**2) \n",
    "print((5+9)*(15-7))"
   ]
  },
  {
   "cell_type": "markdown",
   "metadata": {},
   "source": [
    "### Expressions:\n",
    "- An expression is a combination of values, variables, and operators. \n",
    "- A value all by itself is considered an expression,"
   ]
  },
  {
   "cell_type": "code",
   "execution_count": 6,
   "metadata": {
    "scrolled": true
   },
   "outputs": [
    {
     "name": "stdout",
     "output_type": "stream",
     "text": [
      "7\n",
      "7\n",
      "10\n"
     ]
    }
   ],
   "source": [
    "print(7)    #value\n",
    "x=7  #variables\n",
    "print(x)\n",
    "print(x+3)  #operators"
   ]
  },
  {
   "cell_type": "markdown",
   "metadata": {},
   "source": [
    "### Python Literals:\n",
    "- Literals can be defined as a data that is given in a variable or constant.\n",
    "##### Python support the following literals:\n",
    "- 1. String literals:\n",
    "    - String literals can be formed by enclosing a text in the quotes. \n",
    "    - We can use both single as well as double quotes for a String.\n",
    "- 2. Numeric literals:\n",
    "    - Numeric Literals are immutable. Numeric literals can belong to following four different numerical types.\n",
    "- 3. Boolean literals:\n",
    "    - A Boolean literal can have any of the two values: True or False.\n",
    "- 4. Special literals.\n",
    "    - Python contains one special literal i.e., none.            (ex: val=None)\n",
    "    - None is used to specify to that field that is not created. It is also used for end of lists in Python.\n",
    "- 5. Literal Collections:\n",
    "    - such as tuples, lists and Dictionary are used in Python."
   ]
  },
  {
   "cell_type": "code",
   "execution_count": 7,
   "metadata": {},
   "outputs": [
    {
     "name": "stdout",
     "output_type": "stream",
     "text": [
      "python 12345\n"
     ]
    }
   ],
   "source": [
    "a=\"python\"\n",
    "b='12345'\n",
    "print(a,b)     #string literals"
   ]
  },
  {
   "cell_type": "markdown",
   "metadata": {},
   "source": [
    "##### Types of Strings:\n",
    "-There are two types of Strings supported in Python:\n",
    "    - Single line String- Strings that are terminated within a single line are knownas Single line Strings.\n",
    "- Multi line String\n",
    "    - A piece of text that is spread along multiple lines is known as multiple line String.\n",
    "- There are two ways to create Multiline Strings:\n",
    "    - i. Adding black slash at the end of each line.\n",
    "    - ii. Using triple quotation marks."
   ]
  },
  {
   "cell_type": "code",
   "execution_count": 11,
   "metadata": {},
   "outputs": [
    {
     "name": "stdout",
     "output_type": "stream",
     "text": [
      "hello hello/user welcome to the python\n"
     ]
    }
   ],
   "source": [
    "text=\"hello\" #(single line string)\n",
    "text1=\"hello/user\" #(multilinestring(black slash))\n",
    "text2='''welcome to the python''' #(multilinestring(triple quotation))\n",
    "print(text,text1,text2)"
   ]
  },
  {
   "cell_type": "markdown",
   "metadata": {},
   "source": [
    "##### Types of numerical literals:\n",
    "- int   (Ex: 100)\n",
    "- long   (Ex:283423L)\n",
    "- float  (Ex: -26.2)\n",
    "- complex  (Ex:3.14j)"
   ]
  },
  {
   "cell_type": "markdown",
   "metadata": {},
   "source": [
    "##### boolean  expressions:   \n",
    "- Boolean expression is an expression that is either true or false."
   ]
  },
  {
   "cell_type": "code",
   "execution_count": 16,
   "metadata": {},
   "outputs": [
    {
     "name": "stdout",
     "output_type": "stream",
     "text": [
      "True\n",
      "False\n",
      "<class 'bool'>\n",
      "<class 'bool'>\n",
      "1 False\n",
      "2 False\n",
      "3 True\n"
     ]
    }
   ],
   "source": [
    "print(5==5)\n",
    "print(5==6)\n",
    "print(type(True))\n",
    "print(type(False))\n",
    "print(1,a==6 and b==7)\n",
    "print(2,a==6 or b==7)\n",
    "print(3,not(a==6 and b==7))"
   ]
  },
  {
   "cell_type": "markdown",
   "metadata": {},
   "source": [
    "### Python Data Types\n",
    "- Variables can hold values of different data types.\n",
    "    - String\n",
    "    - List\n",
    "    - Tuple\n",
    "    - Dictionary"
   ]
  },
  {
   "cell_type": "markdown",
   "metadata": {},
   "source": [
    "### Python Operators\n",
    "- The operator can be defined as a symbol which is responsible for a particular operation between two operands.\n",
    "\n",
    " - Arithmetic operators   \n",
    "    - (+(addition), - (subtraction), *(multiplication), /(divide), %(reminder), //(floor division), and exponent (**).\n",
    " - Comparison operators\n",
    "     - ==,!=,<=,>=,<>,>,<\n",
    " - Assignment Operators\n",
    "     - =,+=,-=,*=,%=,**=,//=\n",
    " - Logical Operators\n",
    "     - and,or,not\n",
    " - Bitwise Operators \n",
    "     - & (binary and),| (binary or),^ (binary xor)\t,~ (negation),<< (left shift),>> (right shift)\n",
    " - Membership Operators\n",
    "     - in,not in\n",
    " - Identity Operators\n",
    "     - is,is not\n"
   ]
  },
  {
   "cell_type": "markdown",
   "metadata": {},
   "source": [
    "### python comments:\n",
    "- Comment is not a part of the program, but it enhances the interactivity of the program and makes the program readable.\n",
    "- Python supports two types of comments:\n",
    "    1) Single Line Comment:\n",
    "        - In case user wants to specify a single line comment, then comment must start with #\n",
    "    2) Multi Line Comment:\n",
    "        - Multi lined comment can be given inside triple quotes."
   ]
  },
  {
   "cell_type": "code",
   "execution_count": 16,
   "metadata": {},
   "outputs": [
    {
     "name": "stdout",
     "output_type": "stream",
     "text": [
      "Hello Python\n"
     ]
    }
   ],
   "source": [
    "#single line comment \n",
    "\"\"\"this is multiline comment\"\"\"\n",
    "\n",
    "print (\"Hello Python\") \n"
   ]
  },
  {
   "cell_type": "markdown",
   "metadata": {},
   "source": [
    "### CONDITIONALS:\n",
    "- we almost always need the ability to check conditions and change the behavior of the program accordingly. \n",
    "- Conditional statements give us this ability.\n",
    "    - 1.if statement\n",
    "    - 2.if-else statement\n",
    "    - 3.elif statement\n",
    "    - 4.nested statements"
   ]
  },
  {
   "cell_type": "markdown",
   "metadata": {},
   "source": [
    "#### Indentation in Python:\n",
    "- python doesn't allow the use of parentheses for the block level code. In Python, indentation is used to declare a block. \n",
    "-  If two statements are at the same indentation level, then they are the part of the same block.\n",
    "- Generally, four spaces are given to indent the statements which are a typical amount of indentation in python.\n",
    "- Indentation is the most used part of the python language since it declares the block of code.\n",
    "- All the statements of one block are intended at the same level indentation."
   ]
  },
  {
   "cell_type": "markdown",
   "metadata": {},
   "source": [
    "#### 1.if statement:\n",
    "- if statement is used to test a particular condition.\n",
    "- if the condition is true, it executes a block of code known as if-block. \n",
    "- The condition of if statement can be any valid logical expression which can be either evaluated to true or false.\n",
    "- syntax:\n",
    "\n",
    "    if expression:  \n",
    "    statement  \n"
   ]
  },
  {
   "cell_type": "code",
   "execution_count": 21,
   "metadata": {},
   "outputs": [
    {
     "name": "stdout",
     "output_type": "stream",
     "text": [
      "enter a number:4\n",
      "x is positive\n"
     ]
    }
   ],
   "source": [
    "x=int(input(\"enter a number:\"))\n",
    "if x>0:\n",
    "    print(\"x is positive\")"
   ]
  },
  {
   "cell_type": "code",
   "execution_count": 23,
   "metadata": {},
   "outputs": [
    {
     "name": "stdout",
     "output_type": "stream",
     "text": [
      "enter a number:9\n",
      "x is smaller than 10\n"
     ]
    }
   ],
   "source": [
    "x=int(input(\"enter a number:\"))\n",
    "if x<10:\n",
    "    print(\"x is smaller than 10\")"
   ]
  },
  {
   "cell_type": "code",
   "execution_count": 31,
   "metadata": {},
   "outputs": [
    {
     "name": "stdout",
     "output_type": "stream",
     "text": [
      "enter the number?24\n",
      "Number is even\n"
     ]
    }
   ],
   "source": [
    "num = int(input(\"enter the number?\"))  \n",
    "if num%2 == 0:  \n",
    "    print(\"Number is even\") "
   ]
  },
  {
   "cell_type": "code",
   "execution_count": 26,
   "metadata": {},
   "outputs": [
    {
     "name": "stdout",
     "output_type": "stream",
     "text": [
      "Enter a: 2\n",
      "Enter b: 4\n",
      "Enter c: 3\n",
      "b is largest\n"
     ]
    }
   ],
   "source": [
    "a = int(input(\"Enter a: \"));  \n",
    "b = int(input(\"Enter b: \"));  \n",
    "c = int(input(\"Enter c: \"));  \n",
    "if a>b and a>c:  \n",
    "    print(\"a is largest\");  \n",
    "if b>a and b>c:  \n",
    "    print(\"b is largest\");  \n",
    "if c>a and c>b:  \n",
    "    print(\"c is largest\");  "
   ]
  },
  {
   "cell_type": "code",
   "execution_count": 3,
   "metadata": {},
   "outputs": [
    {
     "name": "stdout",
     "output_type": "stream",
     "text": [
      "7 9\n",
      "x is lesserthan y\n"
     ]
    }
   ],
   "source": [
    "x,y=list(map(int,input().split()))\n",
    "if x==y:\n",
    "    print(\"x and y are same\")\n",
    "else:\n",
    "    if x>y:\n",
    "        print(\"x is greaterthan y\")\n",
    "    else:\n",
    "        print(\"x is lesserthan y\")"
   ]
  },
  {
   "cell_type": "markdown",
   "metadata": {},
   "source": [
    "#### 2.if-else statement:\n",
    "- The if-else statement provides an else block combined with the if statement which is executed in the false case of the condition.\n",
    "- If the condition is true, then the if-block is executed. Otherwise, the else-block is executed.\n",
    "- syntax:\n",
    "    \n",
    "if condition:\n",
    "    #block of statements   \n",
    "else:\n",
    "    #another block of statements (else-block)   \n"
   ]
  },
  {
   "cell_type": "code",
   "execution_count": 29,
   "metadata": {},
   "outputs": [
    {
     "name": "stdout",
     "output_type": "stream",
     "text": [
      "Enter your age? 22\n",
      "You are eligible to vote !!\n"
     ]
    }
   ],
   "source": [
    "age = int (input(\"Enter your age? \"))  \n",
    "if age>=18:  \n",
    "    print(\"You are eligible to vote !!\");  \n",
    "else:  \n",
    "    print(\"Sorry! you have to wait !!\");  "
   ]
  },
  {
   "cell_type": "code",
   "execution_count": 32,
   "metadata": {},
   "outputs": [
    {
     "name": "stdout",
     "output_type": "stream",
     "text": [
      "enter the number?3\n",
      "Number is odd...\n"
     ]
    }
   ],
   "source": [
    "num = int(input(\"enter the number?\"))  \n",
    "if num%2 == 0:  \n",
    "    print(\"Number is even...\")  \n",
    "else:  \n",
    "    print(\"Number is odd...\")  "
   ]
  },
  {
   "cell_type": "markdown",
   "metadata": {},
   "source": [
    "#### elif statement:\n",
    "####Chained conditionals:\n",
    "- Sometimes there are more than two possibilities and we need more thantwo branches. \n",
    "- One way to express a computation like that is a chained conditional\n",
    "- elif is an abbreviation of “else if.\n",
    "- syntax:\n",
    "\n",
    "if expression 1:   \n",
    "    # block of statements   \n",
    "elif expression 2:   \n",
    "    # block of statements  \n",
    "elif expression 3:   \n",
    "    # block of statements \n",
    "else:   \n",
    "    # block of statements  "
   ]
  },
  {
   "cell_type": "code",
   "execution_count": 1,
   "metadata": {},
   "outputs": [
    {
     "name": "stdout",
     "output_type": "stream",
     "text": [
      "1 5\n",
      "x lessthan y\n"
     ]
    }
   ],
   "source": [
    "x,y=list(map(int,input().split()))\n",
    "if x<y:\n",
    "    print(\"x lessthan y\")\n",
    "elif x>y:\n",
    "    print(\"x greaterthan y\")\n",
    "else:\n",
    "    print(\"x and y are equal\")"
   ]
  },
  {
   "cell_type": "code",
   "execution_count": 14,
   "metadata": {},
   "outputs": [
    {
     "name": "stdout",
     "output_type": "stream",
     "text": [
      "c\n",
      "good guess\n"
     ]
    }
   ],
   "source": [
    "choice=input()\n",
    "if choice=='a':\n",
    "    print(\"bad guess\")\n",
    "elif choice=='b':\n",
    "    print(\"close,but not correct!\")\n",
    "elif choice=='c':\n",
    "    print(\"good guess\")"
   ]
  },
  {
   "cell_type": "code",
   "execution_count": 1,
   "metadata": {},
   "outputs": [
    {
     "name": "stdout",
     "output_type": "stream",
     "text": [
      "Enter the number:90\n",
      "number is not equal to 10, 50 or 100\n"
     ]
    }
   ],
   "source": [
    "number = int(input(\"Enter the number:\"))  \n",
    "if number==10:  \n",
    "    print(\"number is equals to 10\")  \n",
    "elif number==50:  \n",
    "    print(\"number is equal to 50\"); \n",
    "elif number==100:  \n",
    "    print(\"number is equal to 100\");     \n",
    "else:  \n",
    "    print(\"number is not equal to 10, 50 or 100\")"
   ]
  },
  {
   "cell_type": "code",
   "execution_count": 1,
   "metadata": {},
   "outputs": [
    {
     "name": "stdout",
     "output_type": "stream",
     "text": [
      "Enter the marks: 70\n",
      "You scored grade B  ...\n"
     ]
    }
   ],
   "source": [
    "marks = int(input(\"Enter the marks: \"))  \n",
    "if marks >= 80 and marks <= 100:  \n",
    "   print(\"Congrats ! you scored grade A ...\")  \n",
    "elif marks >= 70 and marks <= 79:  \n",
    "   print(\"You scored grade B  ...\")  \n",
    "elif marks >= 60 and marks <= 69:  \n",
    "   print(\"You scored grade C ...\")  \n",
    "elif (marks >= 45 and marks <= 59):  \n",
    "   print(\"You scored grade D ...\")  \n",
    "else:  \n",
    "   print(\"Sorry you are fail !\")  "
   ]
  },
  {
   "cell_type": "markdown",
   "metadata": {},
   "source": [
    "### loops:\n",
    "- loop is a programming structure that repeats a sequence of instructions until a specific condition satisfies.\n",
    "- The programming languages provide various types of loops which are capable of repeating some specific code several numbers of times.\n",
    "- Advantages of loops:\n",
    "    - 1.It provides code re-usability.\n",
    "    - 2.Using loops, we do not need to write the same code again and again.\n",
    "    - 3.Using loops, we can traverse over the elements of data structures (array or linked lists).\n"
   ]
  },
  {
   "cell_type": "markdown",
   "metadata": {},
   "source": [
    "- for loop:\n",
    "     - The for loop is used in the case where we need to execute some part of the code until the given condition satisfied.\n",
    "     - The for loop is also called as a per-tested loop.\n",
    "     - It is better to use for loop if the number of iteration is known in advance.\n",
    "- while loop:\n",
    "    - The while loop is to be used in the scenario where we don't know the number of iterations in advance. \n",
    "    -  The block of statements is executed in the while loop until the condition specified in the while loop is satisfied.     - It is also called a pre-tested loop.\n",
    "- do-while loop:\n",
    "     - The do-while loop continues until a given condition satisfies. It is also called post tested loop.\n",
    "     - It is used when it is necessary to execute the loop at least once (mostly menu driven programs)."
   ]
  },
  {
   "cell_type": "markdown",
   "metadata": {},
   "source": [
    "#### for loop:\n",
    "- syntax:\n",
    "    \n",
    "    for iterating_var in sequence:  \n",
    "        statement(s)  \n",
    "\n",
    "    \n"
   ]
  },
  {
   "cell_type": "code",
   "execution_count": 5,
   "metadata": {},
   "outputs": [
    {
     "name": "stdout",
     "output_type": "stream",
     "text": [
      "Enter the number up to which you want to print the natural numbers?10\n",
      "0 1 2 3 4 5 6 7 8 9 "
     ]
    }
   ],
   "source": [
    "i=1  \n",
    "n=int(input(\"Enter the number up to which you want to print the natural numbers?\"))  \n",
    "for i in range(0,10):  \n",
    "    print(i,end = ' ')  "
   ]
  },
  {
   "cell_type": "code",
   "execution_count": 6,
   "metadata": {
    "scrolled": true
   },
   "outputs": [
    {
     "name": "stdout",
     "output_type": "stream",
     "text": [
      "Enter a number:5\n",
      "5 X 1 = 5\n",
      "5 X 2 = 10\n",
      "5 X 3 = 15\n",
      "5 X 4 = 20\n",
      "5 X 5 = 25\n",
      "5 X 6 = 30\n",
      "5 X 7 = 35\n",
      "5 X 8 = 40\n",
      "5 X 9 = 45\n",
      "5 X 10 = 50\n"
     ]
    }
   ],
   "source": [
    "i=1;  \n",
    "num = int(input(\"Enter a number:\"));  \n",
    "for i in range(1,11):  \n",
    "    print(\"%d X %d = %d\"%(num,i,num*i))"
   ]
  },
  {
   "cell_type": "code",
   "execution_count": 5,
   "metadata": {},
   "outputs": [
    {
     "name": "stdout",
     "output_type": "stream",
     "text": [
      "Enter lower range: 2\n",
      "Enter upper range: 10\n",
      "2\n",
      "3\n",
      "5\n",
      "7\n"
     ]
    }
   ],
   "source": [
    "# primenumber:\n",
    "#A positive integer greater than 1 which has no other factors except 1 and the number itself is called a prime number.\n",
    "lower= int(input(\"Enter lower range: \"))\n",
    "upper = int(input(\"Enter upper range: \"))\n",
    " \n",
    "for n in range(lower,upper + 1):\n",
    "   # prime numbers are greater than 1\n",
    "   if n > 1:\n",
    "        for i in range(2,n):\n",
    "            if (n % i) == 0:\n",
    "                break\n",
    "        else:\n",
    "            print(n)"
   ]
  },
  {
   "cell_type": "code",
   "execution_count": 7,
   "metadata": {},
   "outputs": [
    {
     "name": "stdout",
     "output_type": "stream",
     "text": [
      "count is: 0\n",
      "count is: 1\n",
      "count is: 2\n",
      "count is: 3\n",
      "count is: 4\n",
      "count is: 5\n",
      "count is: 6\n",
      "count is: 7\n",
      "count is: 8\n",
      "good bye!\n"
     ]
    }
   ],
   "source": [
    "count=0\n",
    "while count<9:\n",
    "    print(\"count is:\",count)\n",
    "    count+=1\n",
    "print(\"good bye!\")"
   ]
  },
  {
   "cell_type": "code",
   "execution_count": null,
   "metadata": {},
   "outputs": [],
   "source": []
  }
 ],
 "metadata": {
  "kernelspec": {
   "display_name": "Python 3",
   "language": "python",
   "name": "python3"
  },
  "language_info": {
   "codemirror_mode": {
    "name": "ipython",
    "version": 3
   },
   "file_extension": ".py",
   "mimetype": "text/x-python",
   "name": "python",
   "nbconvert_exporter": "python",
   "pygments_lexer": "ipython3",
   "version": "3.7.3"
  }
 },
 "nbformat": 4,
 "nbformat_minor": 2
}
